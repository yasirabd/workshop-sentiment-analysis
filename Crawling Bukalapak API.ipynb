{
 "cells": [
  {
   "cell_type": "markdown",
   "metadata": {},
   "source": [
    "# Modul 2: Crawling Bukalapak dengan API\n",
    "Pada modul ini, kita akan coba mengambil data review Bukalapak dengan API."
   ]
  },
  {
   "cell_type": "code",
   "execution_count": null,
   "metadata": {},
   "outputs": [],
   "source": [
    "# import library\n",
    "import requests\n",
    "import pandas as pd\n",
    "import math, time"
   ]
  },
  {
   "cell_type": "code",
   "execution_count": null,
   "metadata": {},
   "outputs": [],
   "source": [
    "# definisikan terlebih dahulu kriteria berikut\n",
    "parent_api = \"https://api.bukalapak.com/product-reviews?\"\n",
    "token = \"access_token=xxxx\" # TO DO: isi access token\n",
    "description = \"&has_description=true\"\n",
    "rating = \"&ratings%5B%5D=\"\n",
    "product_id = \"&product_id=5zqbwb\"\n",
    "offset = \"&offset=\"\n",
    "limit = \"&limit=10\"\n",
    "\n",
    "# rate\n",
    "total_rate1 = 0 # TO DO: isikan jumlah banyak data bintang 1\n",
    "total_rate2 = 0 # TO DO: isikan jumlah banyak data bintang 2\n",
    "total_rate3 = 0 # TO DO: isikan jumlah banyak data bintang 3\n",
    "total_rate4 = 0 # TO DO: isikan jumlah banyak data bintang 4\n",
    "total_rate5 = 0 # TO DO: isikan jumlah banyak data bintang 5 \n",
    "total_rates = [total_rate1, total_rate2, total_rate3, total_rate4, total_rate5] "
   ]
  },
  {
   "cell_type": "code",
   "execution_count": null,
   "metadata": {},
   "outputs": [],
   "source": [
    "# lakukan crawling\n",
    "# data hasil crawling akan dimasukkan ke dalam pandas DataFrame\n",
    "df_review = pd.DataFrame({\"id_review\": [],\n",
    "                          \"name\": [],\n",
    "                          \"review\": [],\n",
    "                          \"rate\": []})\n",
    "\n",
    "i = 0\n",
    "# lakukan iterasi dari bintang 1-5 serta digabungkan dengan data total bintang masing-masing\n",
    "for rate, total_rate in zip(range(1, 5+1, 1), total_rates):\n",
    "    print(\"ambil data pada bintang {} dengan banyak data {}\".format(rate, total_rate))\n",
    "    \n",
    "    # TO DO: definisikan nilai max_offset\n",
    "    max_offset = None\n",
    "    \n",
    "    for n_offset in range(0, max_offset+1, 10):\n",
    "        try:\n",
    "            print(\"  - ambil data pada offset:\", n_offset)\n",
    "            \n",
    "            # TO DO: gabungkan menjadi sebuah link API\n",
    "            api = None\n",
    "            \n",
    "            # ambil data dari url API\n",
    "            response = requests.get(api)\n",
    "            data = response.json()\n",
    "            \n",
    "            for d in data['data']:\n",
    "                # TO DO: definisikan lokasi data untuk masing-masing\n",
    "                id_review = None\n",
    "                name = None\n",
    "                review = None\n",
    "                rate = None\n",
    "                \n",
    "                # masukkan data ke dalam dataframe\n",
    "                df_review = df_review.append({\"id_review\": int(i),\n",
    "                                              \"name\": name,\n",
    "                                              \"review\": review,\n",
    "                                              \"rate\": str(rate)}, ignore_index=True)\n",
    "                i+=1\n",
    "            time.sleep(1)\n",
    "        except:\n",
    "            print(\"Response failed! mungkin access token bermasalah\")"
   ]
  },
  {
   "cell_type": "code",
   "execution_count": null,
   "metadata": {},
   "outputs": [],
   "source": [
    "df_review.head()"
   ]
  },
  {
   "cell_type": "code",
   "execution_count": null,
   "metadata": {},
   "outputs": [],
   "source": [
    "# simpan menjadi file csv\n",
    "df_review.to_csv(\"review_bukalapak.csv\", index=False)"
   ]
  }
 ],
 "metadata": {
  "kernelspec": {
   "display_name": "Python 3",
   "language": "python",
   "name": "python3"
  },
  "language_info": {
   "codemirror_mode": {
    "name": "ipython",
    "version": 3
   },
   "file_extension": ".py",
   "mimetype": "text/x-python",
   "name": "python",
   "nbconvert_exporter": "python",
   "pygments_lexer": "ipython3",
   "version": "3.7.3"
  }
 },
 "nbformat": 4,
 "nbformat_minor": 2
}
