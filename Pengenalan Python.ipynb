{
 "cells": [
  {
   "cell_type": "markdown",
   "metadata": {},
   "source": [
    "# Modul 1: Pengenalan Python\n",
    "Dalam modul ini, kita akan belajar untuk dasar-dasar pemrograman Python."
   ]
  },
  {
   "cell_type": "markdown",
   "metadata": {},
   "source": [
    "## Tipe Data"
   ]
  },
  {
   "cell_type": "code",
   "execution_count": null,
   "metadata": {},
   "outputs": [],
   "source": [
    "# data integer\n",
    "data_integer = 5\n",
    "print(type(data_integer))\n",
    "\n",
    "# data float\n",
    "# To do: definisikan nilai variabel data_float dengan tipe data float\n",
    "data_float = None\n",
    "print(type(data_float))\n",
    "\n",
    "# data string\n",
    "# To do: definisikan nilai varibel data_string dengan tipe data string\n",
    "data_string = None\n",
    "print(type(data_string))"
   ]
  },
  {
   "cell_type": "markdown",
   "metadata": {},
   "source": [
    "## Operasi Dasar Matematika"
   ]
  },
  {
   "cell_type": "code",
   "execution_count": null,
   "metadata": {},
   "outputs": [],
   "source": [
    "a = 5\n",
    "b = 3\n",
    "\n",
    "# pertambahan, pengurangan, pembagian, perkalian, modulo, division\n",
    "# TODO: isilah operasi dasar matematika untuk a dan b\n",
    "tambah = None\n",
    "kurang = None\n",
    "bagi = None\n",
    "kali = None\n",
    "mod = None\n",
    "div = None\n",
    "\n",
    "print(\"Hasil a + b:\", tambah)\n",
    "print(\"Hasil a - b:\", kurang)\n",
    "print(\"Hasil a / b:\", bagi)\n",
    "print(\"Hasil a * b:\", kali)\n",
    "print(\"Hasil a mod b:\", mod)\n",
    "print(\"Hasil a div b:\", div)"
   ]
  },
  {
   "cell_type": "markdown",
   "metadata": {},
   "source": [
    "## Operasi Dasar String"
   ]
  },
  {
   "cell_type": "code",
   "execution_count": null,
   "metadata": {},
   "outputs": [],
   "source": [
    "teks1 = \"Ibu pergi ke pasar\"\n",
    "teks2 = \"Budi bermain bola bersama teman\"\n",
    "\n",
    "# concatenation\n",
    "# TODO: lakukan concatenation pada teks1 dan teks2\n",
    "concat = None\n",
    "print(\"Hasil concatenation:\", concat)\n",
    "\n",
    "# split teks\n",
    "# TODO: lakukan operasi split teks berdasarkan spasi\n",
    "split = None\n",
    "print(\"Hasil split teks:\", split)\n",
    "\n",
    "# uppercase dan lowercase\n",
    "# TODO: ubah teks1 menjadi upper case dan teks2 menjadi lower case\n",
    "upper = None\n",
    "lower = None\n",
    "print(\"Hasil uppercase:\", upper)\n",
    "print(\"Hasil lowercase:\", lower)\n",
    "\n",
    "# substring\n",
    "# TODO: cetak kata 'Ibu' pada teks1 dan cetak kata 'bola' pada teks2\n",
    "ibu = None\n",
    "bola = None\n",
    "print(\"Substring kata:\", ibu)\n",
    "print(\"Substring kata:\", bola)\n",
    "\n",
    "# count\n",
    "# TODO: hitung kemunculan 'ber' pada teks2\n",
    "count_ber = None\n",
    "print(\"Kemunculan 'ber' sebanyak:\", count_ber)"
   ]
  },
  {
   "cell_type": "markdown",
   "metadata": {},
   "source": [
    "## List"
   ]
  },
  {
   "cell_type": "code",
   "execution_count": null,
   "metadata": {},
   "outputs": [],
   "source": [
    "# list\n",
    "list_buah = ['apel', 'mangga', 'pisang']\n",
    "\n",
    "# TODO: cetak panjang list buah\n",
    "panjang_list = None\n",
    "print(\"Panjang list buah adalah:\", panjang_list)\n",
    "\n",
    "# TODO: cetak elemen 'mangga' dari list buah\n",
    "mangga = None\n",
    "print(\"Buah :\", mangga)\n",
    "\n",
    "# TODO: cetak elemen 'apel' dan 'pisang' dari list buah\n",
    "mangga = None\n",
    "print(\"Buah :\", mangga)\n",
    "\n",
    "# TODO: tambah data 'jeruk' pada list buah\n",
    "list_buah = None\n",
    "print(\"List buah setelah ditambah jeruk:\", list_buah)\n",
    "\n",
    "# TODO: hapus data 'jeruk' pada list buah\n",
    "list_buah = None\n",
    "print(\"List buah setelah dihapus jeruk:\", list_buah)"
   ]
  },
  {
   "cell_type": "markdown",
   "metadata": {},
   "source": [
    "## Dictionary"
   ]
  },
  {
   "cell_type": "code",
   "execution_count": null,
   "metadata": {},
   "outputs": [],
   "source": [
    "# dictionary\n",
    "dict_objek = {'mobil': 'honda', \n",
    "              'buah': ['apel', 'mangga', 'pisang']}\n",
    "\n",
    "# TODO: cetak key yang terdapat pada dictionary objek\n",
    "keys = None\n",
    "print(\"Key dari dictionary objek:\", keys)\n",
    "\n",
    "# TODO: cetak value yang terdapat pada dictionary objek\n",
    "values = None\n",
    "print(\"Values dari dictionary objek:\", values)\n",
    "\n",
    "# TODO: cetak value dari key 'buah'\n",
    "value_buah = None\n",
    "print(\"Value dari key 'buah' adalah:\", value_buah)"
   ]
  },
  {
   "cell_type": "markdown",
   "metadata": {},
   "source": [
    "## Pengulangan For"
   ]
  },
  {
   "cell_type": "code",
   "execution_count": null,
   "metadata": {},
   "outputs": [],
   "source": [
    "list_hewan = ['kucing', 'penguin', 'burung']\n",
    "\n",
    "# TODO: lakukan cetak semua elemen pada list hewan\n",
    "\n",
    "# TODO: buat sebuah list yang berisi hewan berakhiran huruf 'g'dengan perulangan hanya satu baris\n",
    "list_hewan_akhiran_g = None\n",
    "print(\"List hewan berakhiran huruf 'g':\", list_hewan_akhiran_g)"
   ]
  },
  {
   "cell_type": "code",
   "execution_count": null,
   "metadata": {},
   "outputs": [],
   "source": [
    "# kita juga bisa melakukan pengulangan for dengan angka\n",
    "total = 10\n",
    "\n",
    "# TODO: lakukan cetak angka dari 0-10"
   ]
  },
  {
   "cell_type": "markdown",
   "metadata": {},
   "source": [
    "## Kondisi If-Else"
   ]
  },
  {
   "cell_type": "code",
   "execution_count": null,
   "metadata": {},
   "outputs": [],
   "source": [
    "angka = 20\n",
    "\n",
    "# TODO: cetak 'genap' jika angka genap, dan cetak ganjil jika angka ganjil"
   ]
  },
  {
   "cell_type": "markdown",
   "metadata": {},
   "source": [
    "## Fungsi"
   ]
  },
  {
   "cell_type": "code",
   "execution_count": null,
   "metadata": {},
   "outputs": [],
   "source": [
    "a = 10\n",
    "b = 12\n",
    "\n",
    "# TODO: buatlah sebuah fungsi untuk penjumlahan\n",
    "def jumlah(a, b):\n",
    "    return\n",
    "\n",
    "print(\"Penjumlahan a + b =\", jumlah(a, b))"
   ]
  },
  {
   "cell_type": "code",
   "execution_count": null,
   "metadata": {},
   "outputs": [],
   "source": []
  }
 ],
 "metadata": {
  "kernelspec": {
   "display_name": "Python 3",
   "language": "python",
   "name": "python3"
  },
  "language_info": {
   "codemirror_mode": {
    "name": "ipython",
    "version": 3
   },
   "file_extension": ".py",
   "mimetype": "text/x-python",
   "name": "python",
   "nbconvert_exporter": "python",
   "pygments_lexer": "ipython3",
   "version": "3.7.3"
  }
 },
 "nbformat": 4,
 "nbformat_minor": 2
}
